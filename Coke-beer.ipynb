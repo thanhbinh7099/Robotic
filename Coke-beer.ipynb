{
 "cells": [
  {
   "cell_type": "code",
   "execution_count": 1,
   "metadata": {},
   "outputs": [
    {
     "name": "stderr",
     "output_type": "stream",
     "text": [
      "Using TensorFlow backend.\n"
     ]
    }
   ],
   "source": [
    "from keras import backend as K\n",
    "import h5py\n",
    "import matplotlib.pyplot as plt\n",
    "import cv2\n",
    "import numpy as np\n",
    "from keras.utils import np_utils\n",
    "from keras.callbacks import EarlyStopping\n",
    "from keras.callbacks import TensorBoard\n",
    "from keras.models import Sequential\n",
    "from keras.layers import Dense, Dropout, Activation, Flatten\n",
    "from keras.layers.convolutional import Conv2D\n",
    "from keras.layers.pooling import MaxPooling2D\n",
    "import glob"
   ]
  },
  {
   "cell_type": "code",
   "execution_count": 2,
   "metadata": {
    "collapsed": true
   },
   "outputs": [],
   "source": [
    "#Load Data\n",
    "cokecan = glob.glob(\"cokecan/*.png\")\n",
    "beer = glob.glob(\"beer/*.png\")\n",
    "\n",
    "img_rows = 320\n",
    "img_cols = 240\n",
    "num_channel = 3\n",
    "num_classes = 2\n",
    "\n",
    "img_data_list = []\n",
    "img_label_list = [] \n",
    "#CokeCan\n",
    "for path in cokecan:\n",
    "    img = cv2.imread(path)\n",
    "    img = cv2.resize(img, (img_rows, img_cols))\n",
    "    img_data_list.append(img)\n",
    "    img_label_list.append(0)\n",
    "\n",
    "#Beer\n",
    "for path in beer:\n",
    "    img = cv2.imread(path)\n",
    "    img = cv2.resize(img, (img_rows, img_cols))\n",
    "    img_data_list.append(img)\n",
    "    img_label_list.append(1)"
   ]
  },
  {
   "cell_type": "code",
   "execution_count": 3,
   "metadata": {
    "collapsed": true
   },
   "outputs": [],
   "source": [
    "#Shuffle\n",
    "# import random\n",
    "# c = zip(img_data_list, img_label_list)\n",
    "# random.shuffle(c)\n",
    "# data = [e[0] for e in c]\n",
    "# label = [e[1] for e in c]\n",
    "dataz = np.array(img_data_list)\n",
    "labelz = np.array(img_label_list)\n",
    "dataz = dataz.astype('float32')/255.0\n",
    "labelz = np_utils.to_categorical(labelz, num_classes)"
   ]
  },
  {
   "cell_type": "code",
   "execution_count": 4,
   "metadata": {
    "scrolled": true
   },
   "outputs": [
    {
     "data": {
      "image/png": "[encoded data removed]",
      "text/plain": [
       "<matplotlib.figure.Figure at 0x7ff3d5522490>"
      ]
     },
     "metadata": {},
     "output_type": "display_data"
    },
    {
     "data": {
      "text/plain": [
       "array([ 1.,  0.])"
      ]
     },
     "execution_count": 4,
     "metadata": {},
     "output_type": "execute_result"
    }
   ],
   "source": [
    "imgz = dataz[101]\n",
    "plt.imshow(cv2.cvtColor(imgz, cv2.COLOR_BGR2RGB))\n",
    "plt.show()\n",
    "labelz[101]"
   ]
  },
  {
   "cell_type": "code",
   "execution_count": 5,
   "metadata": {
    "collapsed": true
   },
   "outputs": [],
   "source": [
    "num_classes = 2\n",
    "batch_size = 32\n",
    "num_epoch = 15"
   ]
  },
  {
   "cell_type": "code",
   "execution_count": 6,
   "metadata": {
    "collapsed": true
   },
   "outputs": [],
   "source": [
    "# dataz = np.array(data)\n",
    "# labelz = np.array(label)\n",
    "# dataz = dataz.astype('float32')/255.0\n",
    "# labelz = np_utils.to_categorical(labelz, num_classes)"
   ]
  },
  {
   "cell_type": "code",
   "execution_count": 7,
   "metadata": {
    "collapsed": true
   },
   "outputs": [],
   "source": [
    "model = Sequential()\n",
    "\n",
    "model.add(Conv2D(32, kernel_size=(3, 3), activation='relu', input_shape=dataz.shape[1:]))\n",
    "model.add(Conv2D(32, kernel_size=(3, 3), activation='relu')) \n",
    "model.add(MaxPooling2D(pool_size=(2, 2)))  \n",
    "model.add(Dropout(0.25))\n",
    "    \n",
    "    \n",
    "model.add(Conv2D(32, kernel_size=(3, 3), activation='relu')) \n",
    "model.add(Conv2D(64, kernel_size=(3, 3), activation='relu')) \n",
    "model.add(MaxPooling2D(pool_size=(2, 2)))    \n",
    "model.add(Dropout(0.25))  \n",
    "\n",
    "\n",
    "model.add(Flatten())  \n",
    "model.add(Dense(128, activation='relu'))   \n",
    "model.add(Dropout(0.5))\n",
    "model.add(Dense(2, activation='softmax'))"
   ]
  },
  {
   "cell_type": "code",
   "execution_count": 8,
   "metadata": {
    "scrolled": false
   },
   "outputs": [
    {
     "name": "stdout",
     "output_type": "stream",
     "text": [
      "_________________________________________________________________\n",
      "Layer (type)                 Output Shape              Param #   \n",
      "=================================================================\n",
      "conv2d_1 (Conv2D)            (None, 238, 318, 32)      896       \n",
      "_________________________________________________________________\n",
      "conv2d_2 (Conv2D)            (None, 236, 316, 32)      9248      \n",
      "_________________________________________________________________\n",
      "max_pooling2d_1 (MaxPooling2 (None, 118, 158, 32)      0         \n",
      "_________________________________________________________________\n",
      "dropout_1 (Dropout)          (None, 118, 158, 32)      0         \n",
      "_________________________________________________________________\n",
      "conv2d_3 (Conv2D)            (None, 116, 156, 32)      9248      \n",
      "_________________________________________________________________\n",
      "conv2d_4 (Conv2D)            (None, 114, 154, 64)      18496     \n",
      "_________________________________________________________________\n",
      "max_pooling2d_2 (MaxPooling2 (None, 57, 77, 64)        0         \n",
      "_________________________________________________________________\n",
      "dropout_2 (Dropout)          (None, 57, 77, 64)        0         \n",
      "_________________________________________________________________\n",
      "flatten_1 (Flatten)          (None, 280896)            0         \n",
      "_________________________________________________________________\n",
      "dense_1 (Dense)              (None, 128)               35954816  \n",
      "_________________________________________________________________\n",
      "dropout_3 (Dropout)          (None, 128)               0         \n",
      "_________________________________________________________________\n",
      "dense_2 (Dense)              (None, 2)                 258       \n",
      "=================================================================\n",
      "Total params: 35,992,962\n",
      "Trainable params: 35,992,962\n",
      "Non-trainable params: 0\n",
      "_________________________________________________________________\n"
     ]
    }
   ],
   "source": [
    "model.summary()"
   ]
  },
  {
   "cell_type": "code",
   "execution_count": 9,
   "metadata": {
    "collapsed": true
   },
   "outputs": [],
   "source": [
    "# Compile the model\n",
    "model.compile(loss='mean_squared_error',\n",
    "              optimizer='sgd',\n",
    "              metrics=[\"accuracy\"])"
   ]
  },
  {
   "cell_type": "code",
   "execution_count": 10,
   "metadata": {
    "scrolled": false
   },
   "outputs": [
    {
     "name": "stdout",
     "output_type": "stream",
     "text": [
      "Train on 1120 samples, validate on 280 samples\n",
      "Epoch 1/15\n",
      "1120/1120 [==============================] - 570s - loss: 0.2382 - acc: 0.6161 - val_loss: 0.2957 - val_acc: 0.0000e+00\n",
      "Epoch 2/15\n",
      "1120/1120 [==============================] - 506s - loss: 0.2044 - acc: 0.6723 - val_loss: 0.2564 - val_acc: 0.3750\n",
      "Epoch 3/15\n",
      "1120/1120 [==============================] - 437s - loss: 0.1756 - acc: 0.7357 - val_loss: 0.1586 - val_acc: 0.9929\n",
      "Epoch 4/15\n",
      "1120/1120 [==============================] - 435s - loss: 0.1591 - acc: 0.7598 - val_loss: 0.1315 - val_acc: 1.0000\n",
      "Epoch 5/15\n",
      "1120/1120 [==============================] - 440s - loss: 0.1132 - acc: 0.8598 - val_loss: 0.0995 - val_acc: 0.9929\n",
      "Epoch 6/15\n",
      "1120/1120 [==============================] - 435s - loss: 0.0848 - acc: 0.8973 - val_loss: 0.0168 - val_acc: 1.0000\n",
      "Epoch 7/15\n",
      "1120/1120 [==============================] - 448s - loss: 0.0651 - acc: 0.9277 - val_loss: 0.1022 - val_acc: 0.9571\n",
      "Epoch 8/15\n",
      "1120/1120 [==============================] - 443s - loss: 0.0501 - acc: 0.9384 - val_loss: 0.3216 - val_acc: 0.3964\n",
      "Epoch 9/15\n",
      "1120/1120 [==============================] - 437s - loss: 0.0539 - acc: 0.9357 - val_loss: 0.0185 - val_acc: 0.9929\n",
      "Epoch 10/15\n",
      "1120/1120 [==============================] - 436s - loss: 0.0272 - acc: 0.9741 - val_loss: 0.0102 - val_acc: 0.9929\n",
      "Epoch 11/15\n",
      "1120/1120 [==============================] - 436s - loss: 0.0254 - acc: 0.9732 - val_loss: 0.0101 - val_acc: 0.9929\n",
      "Epoch 12/15\n",
      "1120/1120 [==============================] - 440s - loss: 0.0178 - acc: 0.9830 - val_loss: 0.0015 - val_acc: 1.0000\n",
      "Epoch 13/15\n",
      "1120/1120 [==============================] - 490s - loss: 0.0170 - acc: 0.9848 - val_loss: 0.0106 - val_acc: 0.9893\n",
      "Epoch 14/15\n",
      "1120/1120 [==============================] - 486s - loss: 0.0157 - acc: 0.9821 - val_loss: 0.0252 - val_acc: 0.9821\n",
      "Epoch 15/15\n",
      "1120/1120 [==============================] - 462s - loss: 0.0180 - acc: 0.9795 - val_loss: 0.0119 - val_acc: 0.9893\n",
      "1400/1400 [==============================] - 165s   \n",
      "Loss: 0.009\n",
      "Accuracy: 0.991\n"
     ]
    }
   ],
   "source": [
    "# Train the model\n",
    "model.fit(dataz, labelz,\n",
    "        batch_size=batch_size,\n",
    "        shuffle=True,\n",
    "        epochs=num_epoch,\n",
    "        validation_split=0.2,\n",
    "        callbacks=[TensorBoard(log_dir='/tmp/coke_beer')])\n",
    " \n",
    "# Evaluate the model\n",
    "# scores = model.evaluate(Test_features, Test_labels)\n",
    "\n",
    "scores = model.evaluate(dataz, labelz)\n",
    "print('Loss: %.3f' % scores[0])\n",
    "print('Accuracy: %.3f' % scores[1])\n",
    "\n",
    "#tensorboard --logdir=/tmp/coke_beer"
   ]
  },
  {
   "cell_type": "code",
   "execution_count": 11,
   "metadata": {
    "collapsed": true
   },
   "outputs": [],
   "source": [
    "model.save(\"model_coke_beer.h5\")"
   ]
  },
  {
   "cell_type": "code",
   "execution_count": 12,
   "metadata": {},
   "outputs": [
    {
     "data": {
      "image/png": "[encoded data removed]",
      "text/plain": [
       "<matplotlib.figure.Figure at 0x7ff3d4f47810>"
      ]
     },
     "metadata": {},
     "output_type": "display_data"
    }
   ],
   "source": [
    "imgxx = cv2.imread(\"cokecan/messigray1.png\")\n",
    "plt.imshow(cv2.cvtColor(imgxx, cv2.COLOR_BGR2RGB))\n",
    "plt.show()"
   ]
  },
  {
   "cell_type": "code",
   "execution_count": 13,
   "metadata": {},
   "outputs": [
    {
     "name": "stdout",
     "output_type": "stream",
     "text": [
      "[[ 1.  0.]]\n"
     ]
    }
   ],
   "source": [
    "imgxx = cv2.resize(imgxx, dsize=(320, 240))\n",
    "imgxx= np.asarray([imgxx])\n",
    "print model.predict(imgxx)"
   ]
  },
  {
   "cell_type": "code",
   "execution_count": null,
   "metadata": {
    "collapsed": true
   },
   "outputs": [],
   "source": []
  }
 ],
 "metadata": {
  "kernelspec": {
   "display_name": "Python 2",
   "language": "python",
   "name": "python2"
  },
  "language_info": {
   "codemirror_mode": {
    "name": "ipython",
    "version": 2
   },
   "file_extension": ".py",
   "mimetype": "text/x-python",
   "name": "python",
   "nbconvert_exporter": "python",
   "pygments_lexer": "ipython2",
   "version": "2.7.12"
  }
 },
 "nbformat": 4,
 "nbformat_minor": 2
}
